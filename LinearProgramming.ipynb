{
 "cells": [
  {
   "cell_type": "markdown",
   "metadata": {},
   "source": [
    "## Linear Programming Solver \n",
    "\n",
    "### Object Allows User to Call & Enter Values for Standard Form to Solve Linear Optimization Problems\n",
    "\n",
    "* Contructor: Asks User for Input\n",
    "* Simplex(): Solves Optimization Problem, Outputs Matrix for Result Interpretation"
   ]
  },
  {
   "cell_type": "code",
   "execution_count": 220,
   "metadata": {},
   "outputs": [],
   "source": [
    "import numpy as np"
   ]
  },
  {
   "cell_type": "code",
   "execution_count": 217,
   "metadata": {},
   "outputs": [],
   "source": [
    "class LinearProgramming(object):\n",
    "\n",
    "    def __init__(self):\n",
    "\n",
    "        print(\"Welcome to Linear Programming Solver\")\n",
    "        print(\"Please Enter the Details of Your Linear Program Below\")\n",
    "\n",
    "        print(\"\")\n",
    "        self.numOfVariables=int(input(\"Please Enter Number of Inputs: \"))\n",
    "        self.numOfConstraints=int(input(\"Please Enter Number of Constraints: \"))\n",
    "\n",
    "\n",
    "        self.matrix= np.zeros((self.numOfConstraints+1, self.numOfVariables+self.numOfConstraints+1+1))\n",
    "\n",
    "      \n",
    "        self.row=self.numOfConstraints+1\n",
    "        self.col=self.numOfVariables+self.numOfConstraints+1+1\n",
    "\n",
    "        print(\"\")\n",
    "        print(\"Enter Variables for Maximization Function\")\n",
    "        for i in range(self.numOfVariables):\n",
    "            variable=float(input(\"Value for x{}: \".format(i+1)))\n",
    "            self.matrix[self.row-1][i]=-variable\n",
    "            \n",
    "        self.matrix[self.row-1][self.col-2]=1\n",
    "        print(\"\")\n",
    "        print(\"Enter Variables for Constraint Functions\")\n",
    "\n",
    "        for j in range(self.numOfConstraints):\n",
    "            \n",
    "            print(\"Constraint # {} \".format(j+1))\n",
    "            for i in range(self.numOfVariables):\n",
    "                variable=float(input(\"Value for x{}: \".format(i+1)))\n",
    "                self.matrix[j][i]=variable\n",
    "\n",
    "            variable=float(input(\"Value for <= \"))\n",
    "            self.matrix[j][self.col-1]=variable\n",
    "            self.matrix[j][self.numOfVariables+j]=1\n",
    "            print(\"\")\n",
    "\n",
    "\n",
    "    def reduceRows(self,rowNum,colNum,row):\n",
    "        \n",
    "        for i in range(self.row):\n",
    "            if i!=rowNum:\n",
    "           \n",
    "                original_row=np.array(self.matrix[i],copy=True)\n",
    "               \n",
    "                mult=original_row[colNum]/row[colNum]\n",
    "               \n",
    "                \n",
    "                for j in range(len(original_row)):\n",
    "                 \n",
    "                    original_row[j]=original_row[j]-(row[j]*mult)\n",
    "                \n",
    "                \n",
    "                self.matrix[i]=original_row\n",
    "                \n",
    "\n",
    "    def pivotIndex(self,index):\n",
    "        col=self.matrix[:,self.col-1]\n",
    "        col[:self.row-1]\n",
    "       \n",
    "        list=[]\n",
    "        \n",
    "        for i in range(len(col[:self.row-1])):\n",
    "            if self.matrix[:,index][i]>0:\n",
    "                list.append(col[i]/self.matrix[:,index][i])\n",
    "            else:\n",
    "                list.append(float(\"inf\"))\n",
    "        \n",
    "       \n",
    "        \n",
    "        self.matrix[list.index(min(list))]=self.matrix[list.index(min(list))]/self.matrix[:,index][list.index(min(list))]\n",
    "        \n",
    "        self.reduceRows(list.index(min(list)),index,self.matrix[list.index(min(list))])\n",
    "        \n",
    "        \n",
    "        \n",
    "    def Simplex(self):\n",
    "        \n",
    "        count=0\n",
    "        while(1):\n",
    "            \n",
    "            row=self.matrix[self.row-1]\n",
    "\n",
    "            minimun=min(row[:self.col-1])\n",
    "\n",
    "            if minimun<0:\n",
    "                index=np.where(row==min(row[:self.col-1]))[0][0]  \n",
    "                self.pivotIndex(index)\n",
    "                count=count+1\n",
    "                \n",
    "               \n",
    "            else:\n",
    "\n",
    "                break\n"
   ]
  },
  {
   "cell_type": "markdown",
   "metadata": {},
   "source": [
    "## The Blending Problem\n",
    "\n",
    "### A Simple Linear Programming Problem, Inputs are Assumed to be in Standard Form\n",
    "\n",
    "\n",
    "#### Maximize:\n",
    "\n",
    "* 20x1 + 50x2\n",
    "\n",
    "#### Constraints:\n",
    "\n",
    "* -0.2x1 + 0.8x2 <= 0\n",
    "* 2x1 + 4x2 <= 240\n",
    "* 1x1 + 0x2 <= 100"
   ]
  },
  {
   "cell_type": "code",
   "execution_count": 218,
   "metadata": {},
   "outputs": [
    {
     "name": "stdout",
     "output_type": "stream",
     "text": [
      "Welcome to Linear Programming Solver\n",
      "Please Enter the Details of Your Linear Program Below\n",
      "\n",
      "Please Enter Number of Inputs: 2\n",
      "Please Enter Number of Constraints: 3\n",
      "\n",
      "Enter Variables for Maximization Function\n",
      "Value for x1: 20\n",
      "Value for x2: 50\n",
      "\n",
      "Enter Variables for Constraint Functions\n",
      "Constraint # 1 \n",
      "Value for x1: -0.2\n",
      "Value for x2: 0.8\n",
      "Value for <= 0\n",
      "\n",
      "Constraint # 2 \n",
      "Value for x1: 2\n",
      "Value for x2: 4\n",
      "Value for <= 240\n",
      "\n",
      "Constraint # 3 \n",
      "Value for x1: 1\n",
      "Value for x2: 0\n",
      "Value for <= 100\n",
      "\n"
     ]
    }
   ],
   "source": [
    "blending=LinearProgramming()\n"
   ]
  },
  {
   "cell_type": "code",
   "execution_count": 219,
   "metadata": {},
   "outputs": [
    {
     "name": "stdout",
     "output_type": "stream",
     "text": [
      "[[   0.       1.       0.833    0.083    0.       0.      20.   ]\n",
      " [   1.       0.      -1.667    0.333    0.       0.      80.   ]\n",
      " [   0.       0.       1.667   -0.333    1.       0.      20.   ]\n",
      " [   0.       0.       8.333   10.833    0.       1.    2600.   ]]\n"
     ]
    }
   ],
   "source": [
    "blending.Simplex()\n",
    "np.set_printoptions(suppress=True)\n",
    "print(blending.matrix)"
   ]
  },
  {
   "cell_type": "markdown",
   "metadata": {},
   "source": [
    "## Solution\n",
    "\n",
    "* ### Maximum Profit is 2600 with x1=80, x2=20"
   ]
  },
  {
   "cell_type": "markdown",
   "metadata": {},
   "source": [
    "## The Production Problem\n",
    "\n",
    "### A Boat Manufacturer produces 2 types of boat, Boat 1 produces 50 in profit & Boat 2 produces 60\n",
    "\n",
    "\n",
    "#### Needs:\n",
    "\n",
    "* Boat 1: 50 lbs aluminum, 6 min of machine time, 3 hrs of labor\n",
    "* Boat 2: 30 lbs aluminum, 5 min of machine time, 5 hrs of labor\n",
    "\n",
    "#### Availability:\n",
    "* Aluminum: 2000 lbs\n",
    "* Machine Time: 300 min\n",
    "* Labor: 200 hrs"
   ]
  },
  {
   "cell_type": "markdown",
   "metadata": {},
   "source": [
    "production=LinearProgramming()"
   ]
  },
  {
   "cell_type": "code",
   "execution_count": 226,
   "metadata": {},
   "outputs": [
    {
     "name": "stdout",
     "output_type": "stream",
     "text": [
      "[[   1.       0.       0.031    0.      -0.188    0.      25.   ]\n",
      " [   0.       0.      -0.094    1.      -0.438    0.      25.   ]\n",
      " [   0.       1.      -0.019    0.       0.312    0.      25.   ]\n",
      " [   0.       0.       0.438    0.       9.375    1.    2750.   ]]\n"
     ]
    }
   ],
   "source": [
    "production.Simplex()\n",
    "np.set_printoptions(suppress=True)\n",
    "print(production.matrix)"
   ]
  },
  {
   "cell_type": "markdown",
   "metadata": {},
   "source": [
    "## Solution\n",
    "\n",
    "* ### Maximum Profit is 2750 with 25 Boat 1 Produced & 25 Boat 2 Produced\n"
   ]
  }
 ],
 "metadata": {
  "kernelspec": {
   "display_name": "Python 3",
   "language": "python",
   "name": "python3"
  },
  "language_info": {
   "codemirror_mode": {
    "name": "ipython",
    "version": 3
   },
   "file_extension": ".py",
   "mimetype": "text/x-python",
   "name": "python",
   "nbconvert_exporter": "python",
   "pygments_lexer": "ipython3",
   "version": "3.6.0"
  }
 },
 "nbformat": 4,
 "nbformat_minor": 2
}
